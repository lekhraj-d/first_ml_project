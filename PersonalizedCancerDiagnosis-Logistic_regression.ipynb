{
 "cells": [
  {
   "cell_type": "code",
   "execution_count": 1,
   "metadata": {},
   "outputs": [
    {
     "name": "stderr",
     "output_type": "stream",
     "text": [
      "C:\\ProgramData\\Anaconda3\\lib\\site-packages\\sklearn\\cross_validation.py:41: DeprecationWarning: This module was deprecated in version 0.18 in favor of the model_selection module into which all the refactored classes and functions are moved. Also note that the interface of the new CV iterators are different from that of this module. This module will be removed in 0.20.\n",
      "  \"This module will be removed in 0.20.\", DeprecationWarning)\n"
     ]
    }
   ],
   "source": [
    "import pandas as pd\n",
    "import matplotlib.pyplot as plt\n",
    "import re\n",
    "import time\n",
    "import warnings\n",
    "import numpy as np\n",
    "from nltk.corpus import stopwords\n",
    "from sklearn.decomposition import TruncatedSVD\n",
    "from sklearn.preprocessing import normalize\n",
    "from sklearn.feature_extraction.text import CountVectorizer\n",
    "from sklearn.manifold import TSNE\n",
    "import seaborn as sns\n",
    "from sklearn.neighbors import KNeighborsClassifier\n",
    "from sklearn.metrics import confusion_matrix\n",
    "from sklearn.metrics.classification import accuracy_score, log_loss\n",
    "from sklearn.feature_extraction.text import TfidfVectorizer\n",
    "from sklearn.linear_model import SGDClassifier\n",
    "#from imblearn.over_sampling import SMOTE\n",
    "from collections import Counter\n",
    "from scipy.sparse import hstack\n",
    "from sklearn.multiclass import OneVsRestClassifier\n",
    "from sklearn.svm import SVC\n",
    "from sklearn.cross_validation import StratifiedKFold \n",
    "from collections import Counter, defaultdict\n",
    "from sklearn.calibration import CalibratedClassifierCV\n",
    "from sklearn.naive_bayes import MultinomialNB\n",
    "from sklearn.naive_bayes import GaussianNB\n",
    "from sklearn.model_selection import train_test_split\n",
    "from sklearn.model_selection import GridSearchCV\n",
    "import math\n",
    "from sklearn.metrics import normalized_mutual_info_score\n",
    "from sklearn.ensemble import RandomForestClassifier\n",
    "warnings.filterwarnings(\"ignore\")\n",
    "\n",
    "#from mlxtend.classifier import StackingClassifier\n",
    "\n",
    "from sklearn import model_selection\n",
    "from sklearn.linear_model import LogisticRegression\n"
   ]
  },
  {
   "cell_type": "markdown",
   "metadata": {},
   "source": [
    "<h2>3.1. Reading Data</h2>"
   ]
  },
  {
   "cell_type": "markdown",
   "metadata": {},
   "source": [
    "<h3>3.1.1. Reading Gene and Variation Data</h3>"
   ]
  },
  {
   "cell_type": "code",
   "execution_count": 4,
   "metadata": {},
   "outputs": [
    {
     "name": "stdout",
     "output_type": "stream",
     "text": [
      "Number of data points :  3321\n",
      "Number of features :  4\n",
      "Features :  ['ID' 'Gene' 'Variation' 'Class']\n"
     ]
    },
    {
     "data": {
      "text/html": [
       "<div>\n",
       "<style>\n",
       "    .dataframe thead tr:only-child th {\n",
       "        text-align: right;\n",
       "    }\n",
       "\n",
       "    .dataframe thead th {\n",
       "        text-align: left;\n",
       "    }\n",
       "\n",
       "    .dataframe tbody tr th {\n",
       "        vertical-align: top;\n",
       "    }\n",
       "</style>\n",
       "<table border=\"1\" class=\"dataframe\">\n",
       "  <thead>\n",
       "    <tr style=\"text-align: right;\">\n",
       "      <th></th>\n",
       "      <th>ID</th>\n",
       "      <th>Gene</th>\n",
       "      <th>Variation</th>\n",
       "      <th>Class</th>\n",
       "    </tr>\n",
       "  </thead>\n",
       "  <tbody>\n",
       "    <tr>\n",
       "      <th>0</th>\n",
       "      <td>0</td>\n",
       "      <td>FAM58A</td>\n",
       "      <td>Truncating Mutations</td>\n",
       "      <td>1</td>\n",
       "    </tr>\n",
       "    <tr>\n",
       "      <th>1</th>\n",
       "      <td>1</td>\n",
       "      <td>CBL</td>\n",
       "      <td>W802*</td>\n",
       "      <td>2</td>\n",
       "    </tr>\n",
       "    <tr>\n",
       "      <th>2</th>\n",
       "      <td>2</td>\n",
       "      <td>CBL</td>\n",
       "      <td>Q249E</td>\n",
       "      <td>2</td>\n",
       "    </tr>\n",
       "    <tr>\n",
       "      <th>3</th>\n",
       "      <td>3</td>\n",
       "      <td>CBL</td>\n",
       "      <td>N454D</td>\n",
       "      <td>3</td>\n",
       "    </tr>\n",
       "    <tr>\n",
       "      <th>4</th>\n",
       "      <td>4</td>\n",
       "      <td>CBL</td>\n",
       "      <td>L399V</td>\n",
       "      <td>4</td>\n",
       "    </tr>\n",
       "  </tbody>\n",
       "</table>\n",
       "</div>"
      ],
      "text/plain": [
       "   ID    Gene             Variation  Class\n",
       "0   0  FAM58A  Truncating Mutations      1\n",
       "1   1     CBL                 W802*      2\n",
       "2   2     CBL                 Q249E      2\n",
       "3   3     CBL                 N454D      3\n",
       "4   4     CBL                 L399V      4"
      ]
     },
     "execution_count": 4,
     "metadata": {},
     "output_type": "execute_result"
    }
   ],
   "source": [
    "data = pd.read_csv('data/training_variants')\n",
    "print('Number of data points : ', data.shape[0])\n",
    "print('Number of features : ', data.shape[1])\n",
    "print('Features : ', data.columns.values)\n",
    "data.head()"
   ]
  },
  {
   "cell_type": "markdown",
   "metadata": {},
   "source": [
    "<h3>3.1.2. Reading Text Data</h3>"
   ]
  },
  {
   "cell_type": "code",
   "execution_count": 5,
   "metadata": {},
   "outputs": [
    {
     "name": "stdout",
     "output_type": "stream",
     "text": [
      "Number of data points :  3321\n",
      "Number of features :  2\n",
      "Features :  ['ID' 'TEXT']\n"
     ]
    },
    {
     "data": {
      "text/html": [
       "<div>\n",
       "<style>\n",
       "    .dataframe thead tr:only-child th {\n",
       "        text-align: right;\n",
       "    }\n",
       "\n",
       "    .dataframe thead th {\n",
       "        text-align: left;\n",
       "    }\n",
       "\n",
       "    .dataframe tbody tr th {\n",
       "        vertical-align: top;\n",
       "    }\n",
       "</style>\n",
       "<table border=\"1\" class=\"dataframe\">\n",
       "  <thead>\n",
       "    <tr style=\"text-align: right;\">\n",
       "      <th></th>\n",
       "      <th>ID</th>\n",
       "      <th>TEXT</th>\n",
       "    </tr>\n",
       "  </thead>\n",
       "  <tbody>\n",
       "    <tr>\n",
       "      <th>0</th>\n",
       "      <td>0</td>\n",
       "      <td>Cyclin-dependent kinases (CDKs) regulate a var...</td>\n",
       "    </tr>\n",
       "    <tr>\n",
       "      <th>1</th>\n",
       "      <td>1</td>\n",
       "      <td>Abstract Background  Non-small cell lung canc...</td>\n",
       "    </tr>\n",
       "    <tr>\n",
       "      <th>2</th>\n",
       "      <td>2</td>\n",
       "      <td>Abstract Background  Non-small cell lung canc...</td>\n",
       "    </tr>\n",
       "    <tr>\n",
       "      <th>3</th>\n",
       "      <td>3</td>\n",
       "      <td>Recent evidence has demonstrated that acquired...</td>\n",
       "    </tr>\n",
       "    <tr>\n",
       "      <th>4</th>\n",
       "      <td>4</td>\n",
       "      <td>Oncogenic mutations in the monomeric Casitas B...</td>\n",
       "    </tr>\n",
       "  </tbody>\n",
       "</table>\n",
       "</div>"
      ],
      "text/plain": [
       "   ID                                               TEXT\n",
       "0   0  Cyclin-dependent kinases (CDKs) regulate a var...\n",
       "1   1   Abstract Background  Non-small cell lung canc...\n",
       "2   2   Abstract Background  Non-small cell lung canc...\n",
       "3   3  Recent evidence has demonstrated that acquired...\n",
       "4   4  Oncogenic mutations in the monomeric Casitas B..."
      ]
     },
     "execution_count": 5,
     "metadata": {},
     "output_type": "execute_result"
    }
   ],
   "source": [
    "# note the seprator in this file\n",
    "data_text =pd.read_csv(\"data/training_text\",sep=\"\\|\\|\",engine=\"python\",names=[\"ID\",\"TEXT\"],skiprows=1)\n",
    "print('Number of data points : ', data_text.shape[0])\n",
    "print('Number of features : ', data_text.shape[1])\n",
    "print('Features : ', data_text.columns.values)\n",
    "data_text.head()"
   ]
  },
  {
   "cell_type": "markdown",
   "metadata": {},
   "source": [
    "<h3>3.1.3. Preprocessing of text</h3>"
   ]
  },
  {
   "cell_type": "code",
   "execution_count": 15,
   "metadata": {},
   "outputs": [],
   "source": [
    "# loading stop words from nltk library\n",
    "stop_words = set(stopwords.words('english'))\n",
    "\n",
    "def nlp_preprocessing(total_text, index, column):\n",
    "    if type(total_text) is not int:\n",
    "        string = \"\"\n",
    "        # replace every special char with space\n",
    "        total_text = re.sub('[^a-zA-Z0-9\\n]', ' ', total_text)\n",
    "        # replace multiple spaces with single space\n",
    "        total_text = re.sub('\\s+',' ', total_text)\n",
    "        # converting all the chars into lower-case.\n",
    "        total_text = total_text.lower()\n",
    "        \n",
    "        text = ' '.join([word for word in total_text.split() if word not in stop_words])\n",
    "        \n",
    "        data_text[column][index] = text"
   ]
  },
  {
   "cell_type": "code",
   "execution_count": 16,
   "metadata": {},
   "outputs": [
    {
     "name": "stdout",
     "output_type": "stream",
     "text": [
      "Time took for preprocessing the text : 381.3608761493748 seconds\n"
     ]
    }
   ],
   "source": [
    "#text processing stage.\n",
    "start_time = time.clock()\n",
    "for index, row in data_text.iterrows():\n",
    "    nlp_preprocessing(row['TEXT'], index, 'TEXT')\n",
    "print('Time took for preprocessing the text :',time.clock() - start_time, \"seconds\")"
   ]
  },
  {
   "cell_type": "code",
   "execution_count": 17,
   "metadata": {},
   "outputs": [
    {
     "data": {
      "text/html": [
       "<div>\n",
       "<style>\n",
       "    .dataframe thead tr:only-child th {\n",
       "        text-align: right;\n",
       "    }\n",
       "\n",
       "    .dataframe thead th {\n",
       "        text-align: left;\n",
       "    }\n",
       "\n",
       "    .dataframe tbody tr th {\n",
       "        vertical-align: top;\n",
       "    }\n",
       "</style>\n",
       "<table border=\"1\" class=\"dataframe\">\n",
       "  <thead>\n",
       "    <tr style=\"text-align: right;\">\n",
       "      <th></th>\n",
       "      <th>ID</th>\n",
       "      <th>Gene</th>\n",
       "      <th>Variation</th>\n",
       "      <th>Class</th>\n",
       "      <th>TEXT</th>\n",
       "    </tr>\n",
       "  </thead>\n",
       "  <tbody>\n",
       "    <tr>\n",
       "      <th>0</th>\n",
       "      <td>0</td>\n",
       "      <td>FAM58A</td>\n",
       "      <td>Truncating Mutations</td>\n",
       "      <td>1</td>\n",
       "      <td>cyclin dependent kinases cdks regulate variety...</td>\n",
       "    </tr>\n",
       "    <tr>\n",
       "      <th>1</th>\n",
       "      <td>1</td>\n",
       "      <td>CBL</td>\n",
       "      <td>W802*</td>\n",
       "      <td>2</td>\n",
       "      <td>abstract background non small cell lung cancer...</td>\n",
       "    </tr>\n",
       "    <tr>\n",
       "      <th>2</th>\n",
       "      <td>2</td>\n",
       "      <td>CBL</td>\n",
       "      <td>Q249E</td>\n",
       "      <td>2</td>\n",
       "      <td>abstract background non small cell lung cancer...</td>\n",
       "    </tr>\n",
       "    <tr>\n",
       "      <th>3</th>\n",
       "      <td>3</td>\n",
       "      <td>CBL</td>\n",
       "      <td>N454D</td>\n",
       "      <td>3</td>\n",
       "      <td>recent evidence demonstrated acquired uniparen...</td>\n",
       "    </tr>\n",
       "    <tr>\n",
       "      <th>4</th>\n",
       "      <td>4</td>\n",
       "      <td>CBL</td>\n",
       "      <td>L399V</td>\n",
       "      <td>4</td>\n",
       "      <td>oncogenic mutations monomeric casitas b lineag...</td>\n",
       "    </tr>\n",
       "  </tbody>\n",
       "</table>\n",
       "</div>"
      ],
      "text/plain": [
       "   ID    Gene             Variation  Class  \\\n",
       "0   0  FAM58A  Truncating Mutations      1   \n",
       "1   1     CBL                 W802*      2   \n",
       "2   2     CBL                 Q249E      2   \n",
       "3   3     CBL                 N454D      3   \n",
       "4   4     CBL                 L399V      4   \n",
       "\n",
       "                                                TEXT  \n",
       "0  cyclin dependent kinases cdks regulate variety...  \n",
       "1  abstract background non small cell lung cancer...  \n",
       "2  abstract background non small cell lung cancer...  \n",
       "3  recent evidence demonstrated acquired uniparen...  \n",
       "4  oncogenic mutations monomeric casitas b lineag...  "
      ]
     },
     "execution_count": 17,
     "metadata": {},
     "output_type": "execute_result"
    }
   ],
   "source": [
    "#merging both gene_variations and text data based on ID\n",
    "result = pd.merge(data, data_text,on='ID', how='left')\n",
    "result.head()"
   ]
  },
  {
   "cell_type": "markdown",
   "metadata": {},
   "source": [
    "<h3>3.1.4. Test, Train and Cross Validation Split</h3>"
   ]
  },
  {
   "cell_type": "markdown",
   "metadata": {},
   "source": [
    "<h4>3.1.4.1. Splitting data into train, test and cross validation (64:20:16)</h4>"
   ]
  },
  {
   "cell_type": "code",
   "execution_count": 18,
   "metadata": {},
   "outputs": [],
   "source": [
    "y_true = result['Class'].values\n",
    "result.Gene      = result.Gene.str.replace('\\s+', '_')\n",
    "result.Variation = result.Variation.str.replace('\\s+', '_')\n",
    "\n",
    "# split the data into test and train by maintaining same distribution of output varaible 'y_true' [stratify=y_true]\n",
    "X_train, test_df, y_train, y_test = train_test_split(result, y_true, stratify=y_true, test_size=0.2)\n",
    "# split the train data into train and cross validation by maintaining same distribution of output varaible 'y_train' [stratify=y_train]\n",
    "train_df, cv_df, y_train, y_cv = train_test_split(X_train, y_train, stratify=y_train, test_size=0.2)"
   ]
  },
  {
   "cell_type": "markdown",
   "metadata": {},
   "source": [
    "<p> We split the data into train, test and cross validation data sets, preserving the ratio of class distribution in the original data set  </p>"
   ]
  },
  {
   "cell_type": "code",
   "execution_count": 19,
   "metadata": {},
   "outputs": [
    {
     "name": "stdout",
     "output_type": "stream",
     "text": [
      "Number of data points in train data: 2124\n",
      "Number of data points in test data: 665\n",
      "Number of data points in cross validation data: 532\n"
     ]
    }
   ],
   "source": [
    "print('Number of data points in train data:', train_df.shape[0])\n",
    "print('Number of data points in test data:', test_df.shape[0])\n",
    "print('Number of data points in cross validation data:', cv_df.shape[0])"
   ]
  },
  {
   "cell_type": "code",
   "execution_count": 33,
   "metadata": {},
   "outputs": [],
   "source": [
    "# one-hot encoding of Gene feature.\n",
    "gene_vectorizer = CountVectorizer()\n",
    "train_gene_feature_onehotCoding = gene_vectorizer.fit_transform(train_df['Gene'])\n",
    "test_gene_feature_onehotCoding = gene_vectorizer.transform(test_df['Gene'])\n",
    "cv_gene_feature_onehotCoding = gene_vectorizer.transform(cv_df['Gene'])"
   ]
  },
  {
   "cell_type": "code",
   "execution_count": 34,
   "metadata": {
    "scrolled": true
   },
   "outputs": [
    {
     "data": {
      "text/plain": [
       "3243     DDR2\n",
       "2560    BRCA1\n",
       "2633    BRCA1\n",
       "1462    FGFR2\n",
       "2794    BRCA2\n",
       "Name: Gene, dtype: object"
      ]
     },
     "execution_count": 34,
     "metadata": {},
     "output_type": "execute_result"
    }
   ],
   "source": [
    "train_df['Gene'].head()"
   ]
  },
  {
   "cell_type": "code",
   "execution_count": 37,
   "metadata": {},
   "outputs": [],
   "source": [
    "# one-hot encoding of variation feature.\n",
    "variation_vectorizer = CountVectorizer()\n",
    "train_variation_feature_onehotCoding = variation_vectorizer.fit_transform(train_df['Variation'])\n",
    "test_variation_feature_onehotCoding = variation_vectorizer.transform(test_df['Variation'])\n",
    "cv_variation_feature_onehotCoding = variation_vectorizer.transform(cv_df['Variation'])"
   ]
  },
  {
   "cell_type": "code",
   "execution_count": 38,
   "metadata": {},
   "outputs": [
    {
     "name": "stdout",
     "output_type": "stream",
     "text": [
      "train_variation_feature_onehotEncoded is converted feature using the onne-hot encoding method. The shape of Variation feature: (2124, 1950)\n"
     ]
    }
   ],
   "source": [
    "print(\"train_variation_feature_onehotEncoded is converted feature using the onne-hot encoding method. The shape of Variation feature:\", train_variation_feature_onehotCoding.shape)"
   ]
  },
  {
   "cell_type": "code",
   "execution_count": 29,
   "metadata": {},
   "outputs": [
    {
     "name": "stdout",
     "output_type": "stream",
     "text": [
      "train_gene_feature_onehotCoding is converted feature using one-hot encoding method. The shape of gene feature: (2124, 237)\n"
     ]
    }
   ],
   "source": [
    "print(\"train_gene_feature_onehotCoding is converted feature using one-hot encoding method. The shape of gene feature:\", train_gene_feature_onehotCoding.shape)"
   ]
  },
  {
   "cell_type": "code",
   "execution_count": 31,
   "metadata": {},
   "outputs": [
    {
     "name": "stdout",
     "output_type": "stream",
     "text": [
      "Total number of unique words in train data : 53806\n"
     ]
    }
   ],
   "source": [
    "# building a CountVectorizer with all the words that occured minimum 3 times in train data\n",
    "text_vectorizer = CountVectorizer(min_df=3)\n",
    "train_text_feature_onehotCoding = text_vectorizer.fit_transform(train_df['TEXT'])\n",
    "# getting all the feature names (words)\n",
    "train_text_features= text_vectorizer.get_feature_names()\n",
    "\n",
    "# train_text_feature_onehotCoding.sum(axis=0).A1 will sum every row and returns (1*number of features) vector\n",
    "train_text_fea_counts = train_text_feature_onehotCoding.sum(axis=0).A1\n",
    "\n",
    "# zip(list(text_features),text_fea_counts) will zip a word with its number of times it occured\n",
    "text_fea_dict = dict(zip(list(train_text_features),train_text_fea_counts))\n",
    "\n",
    "\n",
    "print(\"Total number of unique words in train data :\", len(train_text_features))"
   ]
  },
  {
   "cell_type": "code",
   "execution_count": 32,
   "metadata": {},
   "outputs": [],
   "source": [
    "# don't forget to normalize every feature\n",
    "train_text_feature_onehotCoding = normalize(train_text_feature_onehotCoding, axis=0)\n",
    "\n",
    "# we use the same vectorizer that was trained on train data\n",
    "test_text_feature_onehotCoding = text_vectorizer.transform(test_df['TEXT'])\n",
    "# don't forget to normalize every feature\n",
    "test_text_feature_onehotCoding = normalize(test_text_feature_onehotCoding, axis=0)\n",
    "\n",
    "# we use the same vectorizer that was trained on train data\n",
    "cv_text_feature_onehotCoding = text_vectorizer.transform(cv_df['TEXT'])\n",
    "# don't forget to normalize every feature\n",
    "cv_text_feature_onehotCoding = normalize(cv_text_feature_onehotCoding, axis=0)"
   ]
  },
  {
   "cell_type": "code",
   "execution_count": null,
   "metadata": {},
   "outputs": [],
   "source": [
    "# don't forget to normalize every feature\n"
   ]
  },
  {
   "cell_type": "markdown",
   "metadata": {},
   "source": [
    "<h1>4. Machine Learning Models</h1>"
   ]
  },
  {
   "cell_type": "code",
   "execution_count": 21,
   "metadata": {},
   "outputs": [],
   "source": [
    "#Data preparation for ML models.\n",
    "\n",
    "#Misc. functionns for ML models\n",
    "\n",
    "\n",
    "def predict_and_plot_confusion_matrix(train_x, train_y,test_x, test_y, clf):\n",
    "    clf.fit(train_x, train_y)\n",
    "    sig_clf = CalibratedClassifierCV(clf, method=\"sigmoid\")\n",
    "    sig_clf.fit(train_x, train_y)\n",
    "    pred_y = sig_clf.predict(test_x)\n",
    "\n",
    "    # for calculating log_loss we willl provide the array of probabilities belongs to each class\n",
    "    print(\"Log loss :\",log_loss(test_y, sig_clf.predict_proba(test_x)))\n",
    "    # calculating the number of data points that are misclassified\n",
    "    print(\"Number of mis-classified points :\", np.count_nonzero((pred_y- test_y))/test_y.shape[0])\n",
    "    plot_confusion_matrix(test_y, pred_y)"
   ]
  },
  {
   "cell_type": "code",
   "execution_count": 22,
   "metadata": {},
   "outputs": [],
   "source": [
    "def report_log_loss(train_x, train_y, test_x, test_y,  clf):\n",
    "    clf.fit(train_x, train_y)\n",
    "    sig_clf = CalibratedClassifierCV(clf, method=\"sigmoid\")\n",
    "    sig_clf.fit(train_x, train_y)\n",
    "    sig_clf_probs = sig_clf.predict_proba(test_x)\n",
    "    return log_loss(test_y, sig_clf_probs, eps=1e-15)"
   ]
  },
  {
   "cell_type": "code",
   "execution_count": 23,
   "metadata": {},
   "outputs": [],
   "source": [
    "# this function will be used just for naive bayes\n",
    "# for the given indices, we will print the name of the features\n",
    "# and we will check whether the feature present in the test point text or not\n",
    "def get_impfeature_names(indices, text, gene, var, no_features):\n",
    "    gene_count_vec = CountVectorizer()\n",
    "    var_count_vec = CountVectorizer()\n",
    "    text_count_vec = CountVectorizer(min_df=3)\n",
    "    \n",
    "    gene_vec = gene_count_vec.fit(train_df['Gene'])\n",
    "    var_vec  = var_count_vec.fit(train_df['Variation'])\n",
    "    text_vec = text_count_vec.fit(train_df['TEXT'])\n",
    "    \n",
    "    fea1_len = len(gene_vec.get_feature_names())\n",
    "    fea2_len = len(var_count_vec.get_feature_names())\n",
    "    \n",
    "    word_present = 0\n",
    "    for i,v in enumerate(indices):\n",
    "        if (v < fea1_len):\n",
    "            word = gene_vec.get_feature_names()[v]\n",
    "            yes_no = True if word == gene else False\n",
    "            if yes_no:\n",
    "                word_present += 1\n",
    "                print(i, \"Gene feature [{}] present in test data point [{}]\".format(word,yes_no))\n",
    "        elif (v < fea1_len+fea2_len):\n",
    "            word = var_vec.get_feature_names()[v-(fea1_len)]\n",
    "            yes_no = True if word == var else False\n",
    "            if yes_no:\n",
    "                word_present += 1\n",
    "                print(i, \"variation feature [{}] present in test data point [{}]\".format(word,yes_no))\n",
    "        else:\n",
    "            word = text_vec.get_feature_names()[v-(fea1_len+fea2_len)]\n",
    "            yes_no = True if word in text.split() else False\n",
    "            if yes_no:\n",
    "                word_present += 1\n",
    "                print(i, \"Text feature [{}] present in test data point [{}]\".format(word,yes_no))\n",
    "\n",
    "    print(\"Out of the top \",no_features,\" features \", word_present, \"are present in query point\")"
   ]
  },
  {
   "cell_type": "markdown",
   "metadata": {},
   "source": [
    "<p style=\"font-size:24px;text-align:Center\"> <b>Stacking the three types of features </b><p>"
   ]
  },
  {
   "cell_type": "code",
   "execution_count": 40,
   "metadata": {},
   "outputs": [
    {
     "data": {
      "text/plain": [
       "'\\ntrain_gene_var_responseCoding = np.hstack((train_gene_feature_responseCoding,train_variation_feature_responseCoding))\\ntest_gene_var_responseCoding = np.hstack((test_gene_feature_responseCoding,test_variation_feature_responseCoding))\\ncv_gene_var_responseCoding = np.hstack((cv_gene_feature_responseCoding,cv_variation_feature_responseCoding))\\n\\ntrain_x_responseCoding = np.hstack((train_gene_var_responseCoding, train_text_feature_responseCoding))\\ntest_x_responseCoding = np.hstack((test_gene_var_responseCoding, test_text_feature_responseCoding))\\ncv_x_responseCoding = np.hstack((cv_gene_var_responseCoding, cv_text_feature_responseCoding))\\n'"
      ]
     },
     "execution_count": 40,
     "metadata": {},
     "output_type": "execute_result"
    }
   ],
   "source": [
    "# merging gene, variance and text features\n",
    "\n",
    "# building train, test and cross validation data sets\n",
    "# a = [[1, 2], \n",
    "#      [3, 4]]\n",
    "# b = [[4, 5], \n",
    "#      [6, 7]]\n",
    "# hstack(a, b) = [[1, 2, 4, 5],\n",
    "#                [ 3, 4, 6, 7]]\n",
    "\n",
    "train_gene_var_onehotCoding = hstack((train_gene_feature_onehotCoding,train_variation_feature_onehotCoding))\n",
    "test_gene_var_onehotCoding = hstack((test_gene_feature_onehotCoding,test_variation_feature_onehotCoding))\n",
    "cv_gene_var_onehotCoding = hstack((cv_gene_feature_onehotCoding,cv_variation_feature_onehotCoding))\n",
    "\n",
    "train_x_onehotCoding = hstack((train_gene_var_onehotCoding, train_text_feature_onehotCoding)).tocsr()\n",
    "train_y = np.array(list(train_df['Class']))\n",
    "\n",
    "test_x_onehotCoding = hstack((test_gene_var_onehotCoding, test_text_feature_onehotCoding)).tocsr()\n",
    "test_y = np.array(list(test_df['Class']))\n",
    "\n",
    "cv_x_onehotCoding = hstack((cv_gene_var_onehotCoding, cv_text_feature_onehotCoding)).tocsr()\n",
    "cv_y = np.array(list(cv_df['Class']))\n",
    "\n",
    "'''\n",
    "train_gene_var_responseCoding = np.hstack((train_gene_feature_responseCoding,train_variation_feature_responseCoding))\n",
    "test_gene_var_responseCoding = np.hstack((test_gene_feature_responseCoding,test_variation_feature_responseCoding))\n",
    "cv_gene_var_responseCoding = np.hstack((cv_gene_feature_responseCoding,cv_variation_feature_responseCoding))\n",
    "\n",
    "train_x_responseCoding = np.hstack((train_gene_var_responseCoding, train_text_feature_responseCoding))\n",
    "test_x_responseCoding = np.hstack((test_gene_var_responseCoding, test_text_feature_responseCoding))\n",
    "cv_x_responseCoding = np.hstack((cv_gene_var_responseCoding, cv_text_feature_responseCoding))\n",
    "'''"
   ]
  },
  {
   "cell_type": "code",
   "execution_count": 41,
   "metadata": {},
   "outputs": [
    {
     "name": "stdout",
     "output_type": "stream",
     "text": [
      "One hot encoding features :\n",
      "(number of data points * number of features) in train data =  (2124, 55993)\n",
      "(number of data points * number of features) in test data =  (665, 55993)\n",
      "(number of data points * number of features) in cross validation data = (532, 55993)\n"
     ]
    }
   ],
   "source": [
    "print(\"One hot encoding features :\")\n",
    "print(\"(number of data points * number of features) in train data = \", train_x_onehotCoding.shape)\n",
    "print(\"(number of data points * number of features) in test data = \", test_x_onehotCoding.shape)\n",
    "print(\"(number of data points * number of features) in cross validation data =\", cv_x_onehotCoding.shape)"
   ]
  },
  {
   "cell_type": "code",
   "execution_count": 47,
   "metadata": {},
   "outputs": [],
   "source": [
    "# This function plots the confusion matrices given y_i, y_i_hat.\n",
    "def plot_confusion_matrix(test_y, predict_y):\n",
    "    C = confusion_matrix(test_y, predict_y)\n",
    "    # C = 9,9 matrix, each cell (i,j) represents number of points of class i are predicted class j\n",
    "    \n",
    "    A =(((C.T)/(C.sum(axis=1))).T)\n",
    "    #divid each element of the confusion matrix with the sum of elements in that column\n",
    "    \n",
    "    # C = [[1, 2],\n",
    "    #     [3, 4]]\n",
    "    # C.T = [[1, 3],\n",
    "    #        [2, 4]]\n",
    "    # C.sum(axis = 1)  axis=0 corresonds to columns and axis=1 corresponds to rows in two diamensional array\n",
    "    # C.sum(axix =1) = [[3, 7]]\n",
    "    # ((C.T)/(C.sum(axis=1))) = [[1/3, 3/7]\n",
    "    #                           [2/3, 4/7]]\n",
    "\n",
    "    # ((C.T)/(C.sum(axis=1))).T = [[1/3, 2/3]\n",
    "    #                           [3/7, 4/7]]\n",
    "    # sum of row elements = 1\n",
    "    \n",
    "    B =(C/C.sum(axis=0))\n",
    "    #divid each element of the confusion matrix with the sum of elements in that row\n",
    "    # C = [[1, 2],\n",
    "    #     [3, 4]]\n",
    "    # C.sum(axis = 0)  axis=0 corresonds to columns and axis=1 corresponds to rows in two diamensional array\n",
    "    # C.sum(axix =0) = [[4, 6]]\n",
    "    # (C/C.sum(axis=0)) = [[1/4, 2/6],\n",
    "    #                      [3/4, 4/6]] \n",
    "    \n",
    "    labels = [1,2,3,4,5,6,7,8,9]\n",
    "    # representing A in heatmap format\n",
    "    print(\"-\"*20, \"Confusion matrix\", \"-\"*20)\n",
    "    plt.figure(figsize=(20,7))\n",
    "    sns.heatmap(C, annot=True, cmap=\"YlGnBu\", fmt=\".3f\", xticklabels=labels, yticklabels=labels)\n",
    "    plt.xlabel('Predicted Class')\n",
    "    plt.ylabel('Original Class')\n",
    "    plt.show()\n",
    "\n",
    "    print(\"-\"*20, \"Precision matrix (Columm Sum=1)\", \"-\"*20)\n",
    "    plt.figure(figsize=(20,7))\n",
    "    sns.heatmap(B, annot=True, cmap=\"YlGnBu\", fmt=\".3f\", xticklabels=labels, yticklabels=labels)\n",
    "    plt.xlabel('Predicted Class')\n",
    "    plt.ylabel('Original Class')\n",
    "    plt.show()\n",
    "    \n",
    "    # representing B in heatmap format\n",
    "    print(\"-\"*20, \"Recall matrix (Row sum=1)\", \"-\"*20)\n",
    "    plt.figure(figsize=(20,7))\n",
    "    sns.heatmap(A, annot=True, cmap=\"YlGnBu\", fmt=\".3f\", xticklabels=labels, yticklabels=labels)\n",
    "    plt.xlabel('Predicted Class')\n",
    "    plt.ylabel('Original Class')\n",
    "    plt.show()"
   ]
  },
  {
   "cell_type": "markdown",
   "metadata": {},
   "source": [
    "<h2>4.1. Base Line Model</h2>\n",
    "\n",
    "<h2>4.3. Logistic Regression</h2>\n",
    "\n",
    "<h3>4.3.1. With Class balancing</h3>\n",
    "\n",
    "<h4>4.3.1.1. Hyper paramter tuning</h4>"
   ]
  },
  {
   "cell_type": "code",
   "execution_count": 59,
   "metadata": {},
   "outputs": [
    {
     "name": "stdout",
     "output_type": "stream",
     "text": [
      "for alpha = 6\n",
      "[1 2 3 4 5 6 7 8 9]\n",
      "1.69641273689\n",
      "Log Loss : 1.69641273689\n"
     ]
    }
   ],
   "source": [
    "alpha=10**-1\n",
    "print(\"for alpha =\", i)\n",
    "clf = SGDClassifier(class_weight='balanced', alpha=i, penalty='l2', loss='log', random_state=42)\n",
    "clf.fit(train_x_onehotCoding, train_y)\n",
    "sig_clf = CalibratedClassifierCV(clf, method=\"sigmoid\")\n",
    "sig_clf.fit(train_x_onehotCoding, train_y)\n",
    "sig_clf_probs = sig_clf.predict_proba(cv_x_onehotCoding)\n",
    "print(clf.classes_)\n",
    "print(log_loss(cv_y, sig_clf_probs, labels=clf.classes_, eps=1e-15))\n",
    "print(\"Log Loss :\",log_loss(cv_y, sig_clf_probs))\n"
   ]
  },
  {
   "cell_type": "code",
   "execution_count": 60,
   "metadata": {},
   "outputs": [
    {
     "name": "stdout",
     "output_type": "stream",
     "text": [
      "for alpha = 6\n",
      "[1 2 3 4 5 6 7 8 9]\n",
      "2.1883532931\n",
      "Log Loss : 2.1883532931\n"
     ]
    }
   ],
   "source": [
    "alpha=10**-1\n",
    "print(\"for alpha =\", i)\n",
    "clf = SGDClassifier(class_weight='balanced', alpha=i, penalty='l2', loss='log', random_state=42)\n",
    "clf.fit(train_x_onehotCoding, train_y)\n",
    "#sig_clf = CalibratedClassifierCV(clf, method=\"sigmoid\")\n",
    "#sig_clf.fit(train_x_onehotCoding, train_y)\n",
    "sig_clf_probs = clf.predict_proba(cv_x_onehotCoding)\n",
    "print(clf.classes_)\n",
    "print(log_loss(cv_y, sig_clf_probs, labels=clf.classes_, eps=1e-15))\n",
    "print(\"Log Loss :\",log_loss(cv_y, sig_clf_probs))\n"
   ]
  },
  {
   "cell_type": "code",
   "execution_count": null,
   "metadata": {},
   "outputs": [],
   "source": []
  },
  {
   "cell_type": "code",
   "execution_count": 65,
   "metadata": {},
   "outputs": [
    {
     "name": "stdout",
     "output_type": "stream",
     "text": [
      "for alpha = 1e-06\n",
      "Log Loss : 1.38714630899\n",
      "for alpha = 1e-05\n",
      "Log Loss : 1.38934734666\n",
      "for alpha = 0.0001\n",
      "Log Loss : 1.30023603951\n",
      "for alpha = 0.001\n",
      "Log Loss : 1.06005837563\n",
      "for alpha = 0.01\n",
      "Log Loss : 1.12894454195\n",
      "for alpha = 0.1\n",
      "Log Loss : 1.41129495378\n",
      "for alpha = 1\n",
      "Log Loss : 1.66409777253\n",
      "for alpha = 10\n",
      "Log Loss : 1.69891058722\n",
      "for alpha = 100\n",
      "Log Loss : 1.70239366787\n"
     ]
    },
    {
     "data": {
      "image/png": "[encoded data removed]",
      "text/plain": [
       "<matplotlib.figure.Figure at 0x33e3a940>"
      ]
     },
     "metadata": {},
     "output_type": "display_data"
    },
    {
     "name": "stdout",
     "output_type": "stream",
     "text": [
      "For values of best alpha =  0.001 The train log loss is: 0.603514020105\n",
      "For values of best alpha =  0.001 The cross validation log loss is: 1.06005837563\n",
      "For values of best alpha =  0.001 The test log loss is: 1.06669002174\n"
     ]
    }
   ],
   "source": [
    "\n",
    "# read more about SGDClassifier() at http://scikit-learn.org/stable/modules/generated/sklearn.linear_model.SGDClassifier.html\n",
    "# ------------------------------\n",
    "# default parameters\n",
    "# SGDClassifier(loss=’hinge’, penalty=’l2’, alpha=0.0001, l1_ratio=0.15, fit_intercept=True, max_iter=None, tol=None, \n",
    "# shuffle=True, verbose=0, epsilon=0.1, n_jobs=1, random_state=None, learning_rate=’optimal’, eta0=0.0, power_t=0.5, \n",
    "# class_weight=None, warm_start=False, average=False, n_iter=None)\n",
    "\n",
    "# some of methods\n",
    "# fit(X, y[, coef_init, intercept_init, …])\tFit linear model with Stochastic Gradient Descent.\n",
    "# predict(X)\tPredict class labels for samples in X.\n",
    "\n",
    "#-------------------------------\n",
    "# video link: https://www.appliedaicourse.com/course/applied-ai-course-online/lessons/geometric-intuition-1/\n",
    "#------------------------------\n",
    "\n",
    "\n",
    "# find more about CalibratedClassifierCV here at http://scikit-learn.org/stable/modules/generated/sklearn.calibration.CalibratedClassifierCV.html\n",
    "# ----------------------------\n",
    "# default paramters\n",
    "# sklearn.calibration.CalibratedClassifierCV(base_estimator=None, method=’sigmoid’, cv=3)\n",
    "#\n",
    "# some of the methods of CalibratedClassifierCV()\n",
    "# fit(X, y[, sample_weight])\tFit the calibrated model\n",
    "# get_params([deep])\tGet parameters for this estimator.\n",
    "# predict(X)\tPredict the target of new samples.\n",
    "# predict_proba(X)\tPosterior probabilities of classification\n",
    "#-------------------------------------\n",
    "# video link:\n",
    "#-------------------------------------\n",
    "\n",
    "alpha = [10 ** x for x in range(-6, 3)]\n",
    "cv_log_error_array = []\n",
    "for i in alpha:\n",
    "    print(\"for alpha =\", i)\n",
    "    clf = SGDClassifier(class_weight='balanced', alpha=i, penalty='l2', loss='log', random_state=42)\n",
    "    clf.fit(train_x_onehotCoding, train_y)\n",
    "    sig_clf = CalibratedClassifierCV(clf, method=\"sigmoid\")\n",
    "    sig_clf.fit(train_x_onehotCoding, train_y)\n",
    "    sig_clf_probs = sig_clf.predict_proba(cv_x_onehotCoding)\n",
    "    cv_log_error_array.append(log_loss(cv_y, sig_clf_probs, labels=clf.classes_, eps=1e-15))\n",
    "    # to avoid rounding error while multiplying probabilites we use log-probability estimates\n",
    "    print(\"Log Loss :\",log_loss(cv_y, sig_clf_probs)) \n",
    "\n",
    "fig, ax = plt.subplots()\n",
    "ax.plot(alpha, cv_log_error_array,c='g')\n",
    "for i, txt in enumerate(np.round(cv_log_error_array,3)):\n",
    "    ax.annotate((alpha[i],str(txt)), (alpha[i],cv_log_error_array[i]))\n",
    "plt.grid()\n",
    "plt.title(\"Cross Validation Error for each alpha\")\n",
    "plt.xlabel(\"Alpha i's\")\n",
    "plt.ylabel(\"Error measure\")\n",
    "plt.show()\n",
    "\n",
    "\n",
    "best_alpha = np.argmin(cv_log_error_array)\n",
    "clf = SGDClassifier(class_weight='balanced', alpha=alpha[best_alpha], penalty='l2', loss='log', random_state=42)\n",
    "clf.fit(train_x_onehotCoding, train_y)\n",
    "sig_clf = CalibratedClassifierCV(clf, method=\"sigmoid\")\n",
    "sig_clf.fit(train_x_onehotCoding, train_y)\n",
    "\n",
    "predict_y = sig_clf.predict_proba(train_x_onehotCoding)\n",
    "print('For values of best alpha = ', alpha[best_alpha], \"The train log loss is:\",log_loss(y_train, predict_y, labels=clf.classes_, eps=1e-15))\n",
    "predict_y = sig_clf.predict_proba(cv_x_onehotCoding)\n",
    "print('For values of best alpha = ', alpha[best_alpha], \"The cross validation log loss is:\",log_loss(y_cv, predict_y, labels=clf.classes_, eps=1e-15))\n",
    "predict_y = sig_clf.predict_proba(test_x_onehotCoding)\n",
    "print('For values of best alpha = ', alpha[best_alpha], \"The test log loss is:\",log_loss(y_test, predict_y, labels=clf.classes_, eps=1e-15))"
   ]
  },
  {
   "cell_type": "markdown",
   "metadata": {},
   "source": [
    "<h4>4.3.1.2. Testing the model with best hyper paramters</h4>"
   ]
  },
  {
   "cell_type": "code",
   "execution_count": 66,
   "metadata": {
    "scrolled": false
   },
   "outputs": [
    {
     "name": "stdout",
     "output_type": "stream",
     "text": [
      "Log loss : 1.06005837563\n",
      "Number of mis-classified points : 0.3609022556390977\n",
      "-------------------- Confusion matrix --------------------\n"
     ]
    },
    {
     "data": {
      "image/png": "[encoded data removed]",
      "text/plain": [
       "<matplotlib.figure.Figure at 0x33effcc0>"
      ]
     },
     "metadata": {},
     "output_type": "display_data"
    },
    {
     "name": "stdout",
     "output_type": "stream",
     "text": [
      "-------------------- Precision matrix (Columm Sum=1) --------------------\n"
     ]
    },
    {
     "data": {
      "image/png": "[encoded data removed]",
      "text/plain": [
       "<matplotlib.figure.Figure at 0x33f7ff60>"
      ]
     },
     "metadata": {},
     "output_type": "display_data"
    },
    {
     "name": "stdout",
     "output_type": "stream",
     "text": [
      "-------------------- Recall matrix (Row sum=1) --------------------\n"
     ]
    },
    {
     "data": {
      "image/png": "[encoded data removed]",
      "text/plain": [
       "<matplotlib.figure.Figure at 0x33d96b38>"
      ]
     },
     "metadata": {},
     "output_type": "display_data"
    }
   ],
   "source": [
    "# read more about SGDClassifier() at http://scikit-learn.org/stable/modules/generated/sklearn.linear_model.SGDClassifier.html\n",
    "# ------------------------------\n",
    "# default parameters\n",
    "# SGDClassifier(loss=’hinge’, penalty=’l2’, alpha=0.0001, l1_ratio=0.15, fit_intercept=True, max_iter=None, tol=None, \n",
    "# shuffle=True, verbose=0, epsilon=0.1, n_jobs=1, random_state=None, learning_rate=’optimal’, eta0=0.0, power_t=0.5, \n",
    "# class_weight=None, warm_start=False, average=False, n_iter=None)\n",
    "\n",
    "# some of methods\n",
    "# fit(X, y[, coef_init, intercept_init, …])\tFit linear model with Stochastic Gradient Descent.\n",
    "# predict(X)\tPredict class labels for samples in X.\n",
    "\n",
    "#-------------------------------\n",
    "# video link: https://www.appliedaicourse.com/course/applied-ai-course-online/lessons/geometric-intuition-1/\n",
    "#------------------------------\n",
    "clf = SGDClassifier(class_weight='balanced', alpha=alpha[best_alpha], penalty='l2', loss='log', random_state=42)\n",
    "predict_and_plot_confusion_matrix(train_x_onehotCoding, train_y, cv_x_onehotCoding, cv_y, clf)"
   ]
  },
  {
   "cell_type": "markdown",
   "metadata": {},
   "source": [
    "<h4>4.3.1.3. Feature Importance</h4>"
   ]
  },
  {
   "cell_type": "code",
   "execution_count": 67,
   "metadata": {},
   "outputs": [],
   "source": [
    "def get_imp_feature_names(text, indices, removed_ind = []):\n",
    "    word_present = 0\n",
    "    tabulte_list = []\n",
    "    incresingorder_ind = 0\n",
    "    for i in indices:\n",
    "        if i < train_gene_feature_onehotCoding.shape[1]:\n",
    "            tabulte_list.append([incresingorder_ind, \"Gene\", \"Yes\"])\n",
    "        elif i< 18:\n",
    "            tabulte_list.append([incresingorder_ind,\"Variation\", \"Yes\"])\n",
    "        if ((i > 17) & (i not in removed_ind)) :\n",
    "            word = train_text_features[i]\n",
    "            yes_no = True if word in text.split() else False\n",
    "            if yes_no:\n",
    "                word_present += 1\n",
    "            tabulte_list.append([incresingorder_ind,train_text_features[i], yes_no])\n",
    "        incresingorder_ind += 1\n",
    "    print(word_present, \"most importent features are present in our query point\")\n",
    "    print(\"-\"*50)\n",
    "    print(\"The features that are most importent of the \",predicted_cls[0],\" class:\")\n",
    "    print (tabulate(tabulte_list, headers=[\"Index\",'Feature name', 'Present or Not']))"
   ]
  },
  {
   "cell_type": "markdown",
   "metadata": {},
   "source": [
    "<h5>4.3.1.3.1. Correctly Classified point</h5>"
   ]
  },
  {
   "cell_type": "code",
   "execution_count": 94,
   "metadata": {},
   "outputs": [],
   "source": [
    "# this function will be used just for naive bayes\n",
    "# for the given indices, we will print the name of the features\n",
    "# and we will check whether the feature present in the test point text or not\n",
    "def get_impfeature_names1(indices, text, gene, var, no_features):\n",
    "    print('indices: {0} \\n  text:{1} \\n gene:{2} \\n var:\"{3} '.format(indices, text, gene, var))\n",
    "    gene_count_vec = CountVectorizer()\n",
    "    var_count_vec = CountVectorizer()\n",
    "    text_count_vec = CountVectorizer(min_df=3)\n",
    "    \n",
    "    gene_vec = gene_count_vec.fit(train_df['Gene'])\n",
    "    var_vec  = var_count_vec.fit(train_df['Variation'])\n",
    "    text_vec = text_count_vec.fit(train_df['TEXT'])\n",
    "    \n",
    "    fea1_len = len(gene_vec.get_feature_names())\n",
    "    fea2_len = len(var_count_vec.get_feature_names())\n",
    "    \n",
    "    word_present = 0\n",
    "    for i,v in enumerate(indices):\n",
    "        if (v < fea1_len):\n",
    "            word = gene_vec.get_feature_names()[v]\n",
    "            print(word)\n",
    "            print(gene)\n",
    "            yes_no = True if word == gene else False\n",
    "            if yes_no:\n",
    "                word_present += 1\n",
    "                print(i, \"Gene feature [{}] present in test data point [{}]\".format(word,yes_no))\n",
    "        elif (v < fea1_len+fea2_len):\n",
    "            word = var_vec.get_feature_names()[v-(fea1_len)]\n",
    "            yes_no = True if word == var else False\n",
    "            if yes_no:\n",
    "                word_present += 1\n",
    "                print(i, \"variation feature [{}] present in test data point [{}]\".format(word,yes_no))\n",
    "        else:\n",
    "            word = text_vec.get_feature_names()[v-(fea1_len+fea2_len)]\n",
    "            yes_no = True if word in text.split() else False\n",
    "            if yes_no:\n",
    "                word_present += 1\n",
    "                print(i, \"Text feature [{}] present in test data point [{}]\".format(word,yes_no))\n",
    "\n",
    "    print(\"Out of the top \",no_features,\" features \", word_present, \"are present in query point\")"
   ]
  },
  {
   "cell_type": "code",
   "execution_count": 100,
   "metadata": {
    "scrolled": false
   },
   "outputs": [
    {
     "name": "stdout",
     "output_type": "stream",
     "text": [
      "Predicted Class : 7\n",
      "Predicted Class Probabilities: [[ 0.0254  0.0376  0.3721  0.0199  0.0234  0.0166  0.4957  0.0048  0.0045]]\n",
      "Actual Class : 7\n",
      "--------------------------------------------------\n",
      "indices: [50213] \n",
      "  text:recent studies identified somatic esr1 mutations patients metastatic breast cancer found promote estrogen independent activation receptor degree recurrent mutants drive estrogen independent activities reduced sensitivity er antagonists like fulvestrant established report characterize spectrum esr1 mutations 900 patients esr1 mutations detected 10 d538g frequent 36 followed y537s 14 several novel activating mutations also detected e g l469v v422del y537d although many mutations lead constitutive activity reduced sensitivity er antagonists select mutants y537s caused magnitude change associated fulvestrant resistance vivo correspondingly tumors driven y537s d5358g e380q s463p less effectively inhibited fulvestrant potent bioavailable antagonists including azd9496 data point need antagonists optimal pharmacokinetic properties realize clinical efficacy certain esr1 mutants significance diversity activating esr1 mutations exist confer resistance existing er antagonists might overcome next generation inhibitors azd9496 cancer discov 7 3 277 87 2016 aacr article highlighted issue feature p 235 introduction therapeutic targeting estrogen synthesis mainstay therapy 70 breast cancers feature estrogen receptor expression treatments markedly reduce risk recurrence early stage disease improve outcomes advanced disease 1 2 despite efficacy significant subset estrogen receptor positive er breast tumors ultimately develops resistance antiestrogen therapy recent work identified set recurrent mutations estrogen receptor esr1 patients hormone refractory metastatic breast cancer mbc refs 3 7 analyses small populations patients described mutations within ligand binding domain lbd receptor majority mutations residues y537 d538 clear whether greater repertoire somatic lbd mutants might identified sequencing larger population mbcs recurrent mutations y537 d538 characterized using biochemical cellular structural analyses shown promote aporeceptor conformation similar estradiol bound receptor ii constitutive coactivator binding transcriptional activity absence estrogen iii hormone independent proliferation expressed hormone dependent cells 3 8 9 also evident studies potential er antagonists potently inhibit mutant receptor activities however whether existing antagonists sufficient potency adequate pharmacokinetic properties inhibit mutant receptors vivo thereby overcome hormone resistant phenotypes clear study analyzed esr1 dna sequences large series metastatic breast tumors found several novel lbd mutations constitutively activate receptor promote breast cancer phenotypes investigated ability er antagonists potently inhibit mutant receptor activities observed differential sensitivity lbd mutants selective estrogen receptor degraders serd among mutants y537s constitutively active required highest drug concentrations fully inhibit receptor specific mutant proved less effectively antagonized vivo fulvestrant drug suboptimal pharmacokinetic properties compared potent orally bioavailable serd azd9496 collectively data suggest activating esr1 lbd mutations differentially affect efficacy er antagonists results novel esr1 lbd mutations patients hormone resistant breast cancer expansion efforts analyze mutations present mbc using next generation sequencing national clinical trials registry 00897702 comprehensive portrait diversity frequency esr1 mutations mbc fig 1a series 929 cases breast cancer including er her2 er tumors analyzed 95 patients somatic mutations esr1 table 1 somatic mutations found lbd one case clinically 85 95 patients esr1 mutations er her2 mbc whereas 10 er her2 terms treatment metastatic setting 67 4 esr1 mutant patients prior exposure aromatase inhibitor ai whereas 18 8 wild type wt patients ai treatment metastatic disease supplementary table s1 among metastatic sites esr1 mutations detected liver bone two frequent whereas none detected brain metastasis biopsies frequent mutations series d538g n 34 y537s n 13 e380q n 20 y537c n 6 y537n n 5 l536h n 4 number mutations also observed low frequency n 2 previously described supplementary table s2 although individual mutations common aggregate represent 20 cases lbd mutations esr1 figure 1 download figureopen new tabdownload powerpoint figure 1 newly detected esr1 mutations exhibit range estrogen independent activities diagram esr1 ligand binding domain somatic mutations identified 929 breast tumors analyzed height circles correlates number cases specific mutation color codes circles follows green missense mutations red truncating mutations nonsense nonstop frameshift deletion frameshift insertion splice site black frame mutations af 2 activation function 2 b activation er reporter gene er mcf7 cells transfected empty vector ha er wt indicated esr1 mutation estrogen response element ere luciferase renilla luciferase reporter constructs hormone depleted medium 10 nmol l e2 added 24 hours indicated firefly luciferase activity shows increased activity absence e2 presence e2 certain mutations graphs plotted mean sd three biological replicates p 0 05 p 0 01 p 0 001 p 0 0001 c activation er target genes mcf7 cells transfected empty vector ha er wt mutant hormone depleted medium harvested 48 hours transfection qrt pcr analysis bars represent mean sd three technical replicates normalized actin actb expression p 0 05 p 0 01 p 0 001 p 0 0001 activation er phosphorylation mcf7 cells expression level mutant ha tagged ers relative phosphorylation status serine118 serine 167 treated without 10 nmol l e2 24 hours immunoblot analysis specific antibodies indicated e activation hormone independent cell proliferation doxycycline inducible er mutant receptors e380q s463p l536r y537s expressing mcf7 cells seeded 96 well plates hormone depleted medium without addition doxycycline proliferation assayed using resazurin reagent data show sufficiency four mutants promote cell growth absence estradiol point graph represented mean sd six technical replicates f binding src3 nuclear receptor domain y537s d538g e380q s463p er lbd absence presence e2 src3 titrated fixed amount er lbd biotin time resolved f rster resonance energy transfer tr fret indicated y537s d538g able recruit src3 absence e2 e380q s463p lbd ligand binding domain view inlineview popup table 1 clinical characteristics tumor biopsies sequenced study presence somatic mutation lbd esr1 necessarily imply constitutive activity thus sought characterize activity set infrequent mutants compare activities better described variants y537s generated hemagglutinin ha tagged esr1 constructs mutations introduced site directed mutagenesis determined activity luciferase assays performed breast cancer cell lines mcf7 er skbr3 er first determine mutants ability drive estrogen independent transcription cellular context typically found er breast cancer examined ability transient expression mutant er promote transcription estrogen response element ere luciferase construct mcf7 cells found mutant ers elevated ere luciferase activity absence estradiol e2 compared wt er although none displayed activity higher y537s fig 1b two notable exceptions however s432l v534e mutants showed increase activity absence e2 despite expressed relatively similar levels wt supplementary fig s1a addition augmentation e2 independent activity examined whether mutants altered response e2 er mutations amino acid 537 showed little induction addition estradiol whereas mutants including s432l v534e showed induction addition e2 case wt effect e2 addition mutants could ascribed presence endogenous wt er also examined effect mutant er expression er skbr3 cells supplementary fig s1b exception y537s already maximally activated er mutants could activated addition e2 skbr3 cells includes s432l v534e mutants demonstrating although mutations constitutively active also inactivating alterations e2 independent activities er mutants restricted luciferase reporter demonstrated induction endogenous er dependent transcripts pgr greb1 fig 1c supplementary fig s1c observed luciferase assays mutants could induce transcripts levels wt absence e2 s432l v534e mutants showed little evidence constitutive activity absence e2 whereas esr amino acid 536 537 mutants active addition regulating er target genes directly er binding sites genome er modulates gene expression indirectly via interaction transcription factors activator protein 1 ap1 thus examined effect several er mutants induction ap1 target genes namely ccnd1 myc found significant changes levels two gene transcripts comparing wt mutant ers data shown looked evidence biological activation somatic lbd mutants beyond assays transcriptional activation phosphorylation serine 118 serine 167 er correlated receptor activation absence ligand 10 12 consistent transcriptional assays mutants except s432l v534e showed increased steady state er s118 s167 phosphorylation compared wt absence e2 expressed mcf7 cells fig 1d addition e2 suppressed apparent differences phosphorylation wt mutants fig 1d slight differences expression levels esr mutants ha er blots despite efforts achieve equal expression may partly due differential effects mutants receptor stability demonstrated previously y537s d538g 3 together data demonstrate constitutive activity infrequent esr1 mutations also reveal least two mutants v534e s432l show evidence constitutive activation given constitutive activities hypothesized infrequent er mutants might promote estrogen independent tumor growth therefore generated doxycycline inducible cell lines expressed four representative er mutants e380q s463p l536r y537s estrogen dependent mcf7 model examined proliferation estrogen deprived medium concentrations doxycycline used induce comparable levels er expression determined immunoblot analyses quantitative pcr supplementary fig s2a s2b found set mutants behaved similarly y537s ability promote e2 independent growth fig 1e however differences observed degree growth stimulation e380q mutant promoting growth lesser degree mutants overall data point several infrequent lbd mutants driving higher estrogen independent receptor activity thereby potentially promoting resistance estrogen deprivation therapy data together point significant differences level estrogen independent activity recurrent mutants well characterized mutants loop helix 11 12 y537s d538g potent inducers less frequent mutants e g s463p e380q one hallmark ligand bound er well constitutively active mutants y537s ability induce conformation binds coactivator proteins characterize whether less frequent mutants could induce agonist conformation vitro without estradiol performed time resolved f rster resonance energy transfer tr fret assay steroid receptor coactivator 3 src3 nuclear receptor domain nrd titrated fixed amount mutant er lbd y537s d538g s463p e380q refs 13 14 src3 well established er coactivator highly expressed breast cancer cells high affinity ligand bound er 15 shown fig 1f src3 nrd bound unliganded y537s highest affinity 18 2 nmol l d538g mutant also able bind src3 absence e2 137 nmol l albeit somewhat less avidly y537s contrast binding detected s436p e380q lbd whatsoever absence e2 er mutants presaturated e2 bound src3 nrd varying affinities s463p e380q showed similar affinities ec50 3 9 nmol l 3 4 nmol l whereas y537s d538g higher affinities ec50 0 3 nmol l 1 1 nmol l results trypsin digestion fret assay demonstrated differences conformations mutants assay tests accessibility region surrounding k529 trypsin access cleavage mutants tested provide substantial major conformational stabilization region significant differences mutants supplementary table s3 absence ligand apo wt er shortest 3 minutes implying region wt er accessible trypsin attack contrast y537s s463p demonstrate greatest stabilization range 15 25 fold followed d538g e380q l536r less 5 fold stabilization presence ligand marked stabilization provided two mutations y537s s463p well d538g compared wt although degree stabilization provided mutations fully correlate degree constitutive activity provides evidence conformations mutants least region helix 11 quite different altogether data consistent mutants inducing constitutive activity distinctive mechanisms y537s appearing active efficacy serds er mutants previous work suggested er antagonists able inhibit er mutants may less potent wt er 3 given differential activities lbd mutants asked whether different lbd mutants comparable activity pure er antagonist fulvestrant ici examined effect selected er mutants upon dose dependent inhibition er driven transcription proliferation fulvestrant mcf7 cells fulvestrant able inhibit activity mutants however appeared y537s mutants required significantly higher levels drug 70 fold higher ic99 y537s compared wt fully inhibit activities fig 2a contrast e380q s463p showed slight resistance fulvestrant 2 fold higher ic99 compared wt fig 2b terms cell proliferation y537s required highest concentration fulvestrant ic50 55 fold higher wt complete growth inhibition whereas several mutants modest effects y537c n d538g s463p fig 2c supplementary fig s3a s3d result fairly concordant data fig 2a b one exception s463p mutant appeared greater effect fulvestrant sensitivity proliferation assay transcriptional assay consistent greater impact mutant promoting estrogen independent proliferation transcription fig 1e c differential effects fulvestrant upon er driven transcription different mutants also evident assessing greb1 pgr transcript levels quantitative pcr supplementary fig s3e s3f taken together data indicate certain esr1 mutants alter fulvestrant sensitivity vitro figure 2 download figureopen new tabdownload powerpoint figure 2 efficacy serds er mutants inhibition wt mutant driven ere luciferase b proliferation c fulvestrant ici doxycycline induced wt mutant er expressing mcf7 cells treated various doses antagonist regular medium demonstrating active mutants required higher level antagonists complete inhibition graphs plotted mean sd two technical six biological replicates respectively note sd values fig 3a b low error bars visible graphs e detection pr levels mcf7 y537s crispr knock cell western blot showed elevated pr levels y537s knock cells comparison parental line indicating expression y537s er mutant receptors f proliferation assays parental y537s crispr knock cell lines performed hormone depleted regular media whereby y537s knock cells showed estrogen independent cell proliferation g h proliferation assays parental mcf7 mcf7 y537s crispr knock cells treated various doses fulvestrant azd9496 4oht demonstrated significantly higher doses required cause growth inhibition y537s expressing cells er antagonists cell confluency measured using incucyte zoom standard software days graphs plotted mean sd three biological replicates test partial resistance conferred er mutants class effect serds compared effects three serds namely azd9496 16 ru 58668 gdc 0810 wt mutant cell lines although three serds capable inhibiting cell proliferation mutants significantly higher concentrations consistently required y537s supplementary fig s4a s4f findings corroborate previously published reports y537s mutation led reduced rates ligand association greater resistance disruption ligand binding urea compared wt 17 serd potency tested using model involving transient expression mutants sought confirm findings regarding y537s system mutation expressed endogenous genomic locus therefore generated esr1 knock y537s mcf7 cell line using crispr cas9 mediated genome editing insertion y537s esr1 gene locus confirmed digital droplet dd pcr analysis parental cells pooled cells cells single cell sorting y537s crispr knock cells clone b3 data demonstrated knock cell line homozygous y537s mutation insignificant number wt positive droplets detected supplementary fig s5 cells expressing y537s allele also demonstrated enhanced expression progesterone receptor pr protein proliferation hormone depleted media compared parental cells fig 2e f potency fulvestrant azd9496 y537s expressing cells examined assaying cell proliferation range drug doses shown fig 2g growth mcf7 wt cells inhibited fulvestrant azd9496 ic50 concentration 0 4 nmol l whereas y537s expressing cells fulvestrant azd9496 inhibited growth ic50 25 nmol l fig 2h reduced sensitivities crispr knock y537s cell line consistent results seen doxycycline induced overexpression mutant cell lines superior antitumor activity er mutant expressing xenografts achieved azd9496 poor pharmacokinetic properties fulvestrant well documented mice humans 3 18 given comparable efficacy azd9496 fulvestrant vitro high serum levels azd9496 achievable oral administration sought compare drugs xenograft models er mutant disease examined xenografts mcf7 cells engineered express wt mutant er doxycycline inducible promoter 3 previously demonstrated growth tumors entirely dependent er signaling complete ablation er able fully block tumor growth maximally effective doses fulvestrant 200 mg kg twice weekly via subcutaneous injection azd9496 15 mg kg orally daily administered mice tumors expressing wt e380q s463p y537s d538g er fulvestrant fully inhibited growth wt e380q s463p expressing tumors nearly completely inhibiting growth d538g tumors fig 3a e y537s expressing tumors however continued grow presence fulvestrant albeit slowly untreated controls whereas fulvestrant partially effective suppressing y537s tumors azd9496 able completely inhibit growth relative resistance y537s tumors fulvestrant evident compared sizes tumors end study plotting scatter plots showed y537s tumors significantly larger wt d538g tumors fulvestrant arms ici azd9496 arms fig 3f g contrast tumors expressing alternate y537 mutations y537c n well v422del responded similarly wt upon inhibition either fulvestrant azd9496 supplementary fig s6a s6d similar observations made tested effect another bioavailable serd gdc 0810 growth er mutant tumors suggesting improved pharmacokinetic properties antagonists aid efficient targeting mutant er supplementary fig s7a s7c figure 3 download figureopen new tabdownload powerpoint figure 3 azd9496 demonstrates superior antitumor effects er mutant expressing xenografts mice bearing mcf7 inducible ha er wt y537s b d538g c e380q s463p e tumors randomly assigned treatment groups either 15 mg kg azd9496 daily orally 200 mg kg fulvestrant twice weekly c tumors treated azd9496 showed greater growth inhibition compared treated fulvestrant result presented average tumor volume measured group sd n 10 mice group p 0 05 p 0 01 p 0 001 p 0 0001 f g scatter plots volumes tumors expressing wt y537s d538g treated either fulvestrant ici azd9496 taken end xenograft studies shown c tests comparing volumes mutant tumors wt indicated significant resistance y537s mutant tumors fulvestrant treatment p 0 05 p 0 01 p 0 001 p 0 0001 h pdx ctc 174 d538g mutation showed greater growth arrest 5 mg kg azd9496 result presented average tumor volume measured group sem quantitative pcr detection various er target genes azd9496 treated ctc 174 d538g pdx model showed significant reduction transcript levels greb1 stc2 tff1 pgr compared vehicle indicating inhibition er signaling pathway azd9496 graphs plotted mean sd three technical replicates support potential er antagonists target er mutant tumors examined effect azd9496 fulvestrant growth patient derived xenograft pdx ctc 174 19 expresses d538g esr1 mutation supplementary fig s8a s8b azd9496 fulvestrant able slow tumor growth model slightly enhanced efficacy seen azd9496 context similar observed mcf7 d538g model fig 3h c noted unlike mcf7 model growth particular xenograft never shown fully dependent er signaling alone may partially affected pik3can345k activating mutation two arid1a truncation mutations e1776 s705fs inactivating mutations identified sequencing model consistent results assessment er driven transcripts azd9496 vehicle treated tumors shows marked reduction er activity azd9496 administration suggesting efficacious blocking er driven component disease fig 3i overall data two er mutant models consistent ability azd9496 inhibit mutant er driven tumor growth across broader range mutants fulvestrant vivo support examined drug levels azd9496 fulvestrant serum using pharmacokinetic modeling found average area curve auc cmax fulvestrant auc 5 29 mol l h cmax 0 65 mol l markedly lower obtained azd9496 auc 218 mol l h cmax 59 mol l difference observed despite dosing fulvestrant levels approximately 5 fold higher administered patients taken together data consistent fulvestrant azd9496 inhibiting mutant er activities vitro azd9496 superior pharmacokinetic properties enabling vivo efficacy across broader range er mutant models including driven y537s discussion two major strategies therapeutic targeting hormonal signaling breast cancer estrogen deprivation direct antagonism estrogen receptor large clinical investigations estrogen deprivation become clinical standard adjuvant metastatic setting recently however resistance estrogen deprivation therapy characterized frequently involving activating mutations estrogen receptor 20 biochemical structural studies common mutations shown promote activated conformation absence ligand conformation remains permissive ligand binding thus leading hypothesis direct antagonism may rational strategy mutant receptors however ability different er antagonists effectively block different er mutants occur clinic established study characterize diversity activating esr1 mutations observed clinic determine conditions needed er antagonists effective mutations initial reports existence somatic esr1 mutations er mbc came somewhat smaller populations tumors range 11 76 tumors 3 6 recurrent alterations focal point vitro characterizations demonstrated mutations d538g y537s n c l536r promoted estrogen independent activation receptor 3 6 addition several reports assessed ability er antagonists 4 hydroxytamoxifen fulvestrant block mutant receptors 3 6 data appeared mutant receptors might inhibited albeit higher drug concentrations 3 4 6 21 whether esr1 mutants followed pattern mutations amino acids 536 538 unknown current study report identification esr1 lbd mutations large cohort patients mbc majority mutations amino acids 538 537 380 536 however detected number low frequency novel mutations collectively comprised 20 mutations detected within series analysis different mutations revealed range activities across variety assays surveying vitro conformation phosphorylation transcriptional activity estrogen independent proliferation y537s mutant appeared greatest effect mutation neighboring residues 536 538 also led high activity however cases often level observed estradiol stimulation also notable mutation amino acid 537 site cysteine c aspartic acid asparagine n caused receptor activation lesser degree mutant hence level er activation depends site mutation nature mutant residue beyond mutations mutants outside region show modest activity absence estradiol addition two somatic mutations s432l v534e showed activation absence estrogen role promoting resistance aromatase inhibition supported data basis differences basal activation levels likely lie conformational changes mutations induce structures d538g y537s ligand binding domains reported show similarities mechanisms whereby induce ligand independent activation 22 however even two structures highlight important differences hydrogen bonding side chain packing may well translate apparent differences coactivator binding affinity basal transcriptional activity alterations e380q s463p appear likely promote hormone independence still mechanisms evidenced lack coactivator binding induce vitro absence estradiol findings support ongoing efforts characterize structures different recurrent er mutants likely reveal different constraints prevent unliganded er activating transcription translational perspective varying activities observed different esr1 mutations raise several issues first yet clear whether different mutations less able promote resistance aromatase inhibitors data revealing presence esr1 mutations hormone independent tumors association poor outcomes largely obtained small populations underpowered look differences outcome due different mutations one recent report suggested patients d538g y537s mutant tumors may slight differences survival outcomes involved numbers small conclusive point 20 data raise possibility mutations may indeed effective promoting resistance others perhaps even greater significance estrogen receptor antagonists might differential efficacies function mutation type activity possibility investigated models estrogen receptor antagonists fulvestrant appear broadly effective er mutants vitro important differences emerge comparing potencies individual mutants whereas several mutations modest effect fulvestrant efficacy y537s led major changes concentration required fully inhibit er activities accounts specific differences drug potency yet clear notable y537s mutant activated absence ligand also shows reduced ligand association rates binding affinities vitro perhaps points particularly active state receptor might targeted unique pharmacologic strategy however despite reduced affinity antagonists fulvestrant ultimately inhibit er mutants including y537s vitro albeit higher doses address whether differences potency might clinical implications examined vivo effects drugs xenograft models using models found fulvestrant capable fully inhibiting wt e380q s463p er driven breast cancers however y537s mutants fully inhibited fulvestrant despite dosing higher levels typically achieved clinic tumor model driven d538g nearly completely inhibited fulvestrant appeared behave like e380q s463p mutants vivo oral serds azd9496 gdc 0810 able completely block growth wt mutant er driven models including driven y537s findings consistent clinical observations major limitation fulvestrant poor pharmacokinetic properties although fulvestrant highly potent vitro receptor occupancy vivo incomplete steady state serum concentrations reached current dosing 18 however higher peak steady state levels azd9496 gdc 0810 achievable despite administering significantly less drug mice several bioavailable serds azd9496 gdc 0810 early clinical trial testing value higher drug levels formally evaluated data indicate need include assessment specific mutations evaluation mutations amino acid 537 perhaps also 536 538 likely necessitate higher drug levels achieve complete inhibition finally notable pdx model analyzed demonstrated partial tumor growth inhibition azd9496 although data esr1 mutations consistent alterations common reducing tumor dependence estrogen imply mutant tumors exclusively dependent er signaling growth tumor genotyping esr1 mutant breast cancers also reveals recurrent alterations pi3k akt pathway cyclin d1 fgf receptors among others 3 alterations likely reduce tumor dependence er signaling tumors appropriate candidates combinations antiestrogens inhibitors pi3k akt cdk4 6 fgfrs phase ii iii testing data suggest specific hormonal drug used combination likely matter significantly point emphasized recent observation inhibition growth signals pi3k akt led activation restored dependence upon er signaling 23 taken together data emerging literature suggest potent bioavailable compounds block er signaling may play key role management er mbc \n",
      " gene:ESR1 \n",
      " var:\"A546D \n"
     ]
    },
    {
     "name": "stdout",
     "output_type": "stream",
     "text": [
      "Out of the top  500  features  0 are present in query point\n"
     ]
    }
   ],
   "source": [
    "# from tabulate import tabulate\n",
    "clf = SGDClassifier(class_weight='balanced', alpha=alpha[best_alpha], penalty='l2', loss='log', random_state=42)\n",
    "clf.fit(train_x_onehotCoding,train_y)\n",
    "test_point_index = 1\n",
    "no_feature = 500\n",
    "predicted_cls = sig_clf.predict(test_x_onehotCoding[test_point_index])\n",
    "print(\"Predicted Class :\", predicted_cls[0])\n",
    "print(\"Predicted Class Probabilities:\", np.round(sig_clf.predict_proba(test_x_onehotCoding[test_point_index]),4))\n",
    "print(\"Actual Class :\", test_y[test_point_index])\n",
    "indices = np.argsort(-clf.coef_)[predicted_cls-1][:,:no_feature]\n",
    "\n",
    "print(\"-\"*50)\n",
    "get_impfeature_names1(indices[:,40], test_df['TEXT'].iloc[test_point_index],test_df['Gene'].iloc[test_point_index],test_df['Variation'].iloc[test_point_index], no_feature)"
   ]
  },
  {
   "cell_type": "markdown",
   "metadata": {},
   "source": [
    "<h5>4.3.1.3.2. Incorrectly Classified point</h5>"
   ]
  },
  {
   "cell_type": "code",
   "execution_count": 52,
   "metadata": {},
   "outputs": [
    {
     "name": "stdout",
     "output_type": "stream",
     "text": [
      "Predicted Class : 7\n",
      "Predicted Class Probabilities: [[ 0.0484  0.0738  0.0101  0.0411  0.2452  0.0277  0.5402  0.0066  0.007 ]]\n",
      "Actual Class : 5\n",
      "--------------------------------------------------\n",
      "41 Text feature [3t3] present in test data point [True]\n",
      "55 Text feature [ligand] present in test data point [True]\n",
      "78 Text feature [downstream] present in test data point [True]\n",
      "120 Text feature [technology] present in test data point [True]\n",
      "175 Text feature [phospho] present in test data point [True]\n",
      "187 Text feature [activated] present in test data point [True]\n",
      "217 Text feature [expressing] present in test data point [True]\n",
      "244 Text feature [tyrosine] present in test data point [True]\n",
      "290 Text feature [thyroid] present in test data point [True]\n",
      "349 Text feature [starved] present in test data point [True]\n",
      "476 Text feature [phosphorylation] present in test data point [True]\n",
      "499 Text feature [subcutaneously] present in test data point [True]\n",
      "Out of the top  500  features  12 are present in query point\n"
     ]
    }
   ],
   "source": [
    "test_point_index = 100\n",
    "no_feature = 500\n",
    "predicted_cls = sig_clf.predict(test_x_onehotCoding[test_point_index])\n",
    "print(\"Predicted Class :\", predicted_cls[0])\n",
    "print(\"Predicted Class Probabilities:\", np.round(sig_clf.predict_proba(test_x_onehotCoding[test_point_index]),4))\n",
    "print(\"Actual Class :\", test_y[test_point_index])\n",
    "indices = np.argsort(-clf.coef_)[predicted_cls-1][:,:no_feature]\n",
    "print(\"-\"*50)\n",
    "get_impfeature_names(indices[0], test_df['TEXT'].iloc[test_point_index],test_df['Gene'].iloc[test_point_index],test_df['Variation'].iloc[test_point_index], no_feature)"
   ]
  }
 ],
 "metadata": {
  "kernelspec": {
   "display_name": "Python 3",
   "language": "python",
   "name": "python3"
  },
  "language_info": {
   "codemirror_mode": {
    "name": "ipython",
    "version": 3
   },
   "file_extension": ".py",
   "mimetype": "text/x-python",
   "name": "python",
   "nbconvert_exporter": "python",
   "pygments_lexer": "ipython3",
   "version": "3.6.2"
  }
 },
 "nbformat": 4,
 "nbformat_minor": 2
}
